{
 "cells": [
  {
   "cell_type": "markdown",
   "id": "09c6e50c",
   "metadata": {},
   "source": [
    "# The Notebook"
   ]
  },
  {
   "cell_type": "markdown",
   "id": "7a3a2e7a",
   "metadata": {},
   "source": [
    "## Setup"
   ]
  },
  {
   "cell_type": "code",
   "execution_count": null,
   "id": "997f1c17",
   "metadata": {},
   "outputs": [],
   "source": [
    "import pandas as pd\n",
    "import matplotlib.pyplot as plt\n",
    "import seaborn as sns\n",
    "import re\n",
    "\n",
    "sns.set_palette(\"viridis\")\n",
    "sns.set_theme(style=\"whitegrid\")\n",
    "\n",
    "pd.set_option('display.max_colwidth', None)"
   ]
  },
  {
   "cell_type": "markdown",
   "id": "7c80c0dd",
   "metadata": {},
   "source": [
    "## Load the data"
   ]
  },
  {
   "cell_type": "code",
   "execution_count": null,
   "id": "6aa5ea75",
   "metadata": {},
   "outputs": [],
   "source": [
    "path = 'Results_HANDLEBARS_LANG3/results.csv'\n",
    "\n",
    "Results = pd.read_csv(path, delimiter='|', names=[\"client\", \"lib\", \"methodName\", \"testName\", \"testResult\", \"testResult2ndRun\", \"testResultWithMutant\", \"testSnapshot\", \"testSnapshotWithMutant\", \"diffResultStrict\", \"diffResultCount\", \"diffResultSignature\", \"traceDirectoryLeft\", \"traceDirectoryRight\", \"mutationDone\"])\n",
    "\n",
    "\n",
    "# Remove the '/home/gus/Downloads/exps' prefix\n",
    "Results['client'] = Results['client'].str.replace('/home/gus/Downloads/exps/', '', regex=False)\n",
    "Results['lib'] = Results['lib'].str.replace('/home/gus/Downloads/exps/', '', regex=False)\n",
    "\n",
    "# Filter out cases we do not want (falkiness, bad mutation, bad attach)\n",
    "\n",
    "print(\"Number of runs originally:\")\n",
    "print(len(Results.index))\n",
    "\n",
    "# Was able to do the mutation...\n",
    "# Results = Results[Results['mutationDone'] == 'true']\n",
    "\n",
    "# print(\"Number of runs after removing cases where we could not perform the mutation:\")\n",
    "# print(len(Results.index))\n",
    "\n",
    "# Snapshot test is not flaky (testSnapshot == Green)\n",
    "#Results = Results[Results['testSnapshot'] == 'Green']\n",
    "\n",
    "# Only tests that are valid originally\n",
    "Results = Results[Results['testResult'] == 'Green']\n",
    "\n",
    "print(\"Number of runs after removing cases where the client test originally was not Green:\")\n",
    "print(len(Results.index))\n",
    "\n",
    "# Client test is not flaky\n",
    "#Results = Results[Results['testResult2ndRun'] == 'Green']\n",
    "\n",
    "Results"
   ]
  },
  {
   "cell_type": "code",
   "execution_count": null,
   "id": "23b3785d",
   "metadata": {},
   "outputs": [],
   "source": [
    "client_test_pool = Results[['client', 'lib', 'methodName', 'testName', 'testResult', 'testResult2ndRun', 'testResultWithMutant']]\n",
    "\n",
    "print(\"Number of client runs originally:\")\n",
    "print(len(client_test_pool.index))\n",
    "\n",
    "# Client test is not flaky\n",
    "client_test_pool = client_test_pool[client_test_pool['testResult2ndRun'] == 'Green']\n",
    "\n",
    "print(\"Number of client runs after removing cases where the client test is flaky:\")\n",
    "print(len(client_test_pool.index))"
   ]
  },
  {
   "cell_type": "code",
   "execution_count": null,
   "id": "221d9555",
   "metadata": {},
   "outputs": [],
   "source": [
    "gilesi_test_pool = Results[['client', 'lib', 'methodName', 'testName', 'testSnapshot', 'testSnapshotWithMutant', 'diffResultStrict', 'diffResultCount', 'diffResultSignature', 'traceDirectoryLeft', 'traceDirectoryRight', 'mutationDone']]\n",
    "\n",
    "print(\"Number of gilesi runs originally:\")\n",
    "print(len(gilesi_test_pool.index))\n",
    "\n",
    "# Was able to do the mutation...\n",
    "gilesi_test_pool = gilesi_test_pool[gilesi_test_pool['mutationDone'] == 'true']\n",
    "\n",
    "print(\"Number of gilesi runs after removing cases where we could not perform the mutation:\")\n",
    "print(len(gilesi_test_pool.index))\n",
    "\n",
    "# Snapshot test is not flaky (testSnapshot == Green)\n",
    "gilesi_test_pool = gilesi_test_pool[gilesi_test_pool['testSnapshot'] == 'Green']\n",
    "\n",
    "print(\"Number of gilesi runs after removing cases where the snapshot test is flaky:\")\n",
    "print(len(gilesi_test_pool.index))"
   ]
  },
  {
   "cell_type": "code",
   "execution_count": null,
   "id": "128009b5",
   "metadata": {},
   "outputs": [],
   "source": [
    "ClientResultsGrouped = client_test_pool.groupby(['client', 'lib', 'methodName'])\n",
    "\n",
    "print(\"Number of client mutants originally:\")\n",
    "print(len(ClientResultsGrouped))\n",
    "\n",
    "GilesiResultsGrouped = gilesi_test_pool.groupby(['client', 'lib', 'methodName'])\n",
    "\n",
    "print(\"Number of gilesi mutants originally:\")\n",
    "print(len(GilesiResultsGrouped))\n",
    "\n",
    "mutant_list = []\n",
    "mutant_metrics = []\n",
    "\n",
    "for ClientRunsGroupName, ClientRuns in ClientResultsGrouped:\n",
    "    ClientClient = ClientRunsGroupName[0]\n",
    "    ClientLib = ClientRunsGroupName[1]\n",
    "    ClientMethodName = ClientRunsGroupName[2]\n",
    "\n",
    "    for GilesiRunsGroupName, GilesiRuns in GilesiResultsGrouped:\n",
    "        GilesiClient = GilesiRunsGroupName[0]\n",
    "        GilesiLib = GilesiRunsGroupName[1]\n",
    "        GilesiMethodName = GilesiRunsGroupName[2]\n",
    "\n",
    "        if ClientClient == GilesiClient and ClientLib == GilesiLib and ClientMethodName == GilesiMethodName:\n",
    "            mutant_list.append(ClientMethodName)\n",
    "\n",
    "            testResultWithMutant = \"Green\"\n",
    "            testSnapshotWithMutant = \"Green\"\n",
    "\n",
    "            for Run in ClientRuns[\"testResultWithMutant\"]:\n",
    "                if Run == \"Red\":\n",
    "                    testResultWithMutant = \"Red\"\n",
    "                    break\n",
    "            \n",
    "            for Run in GilesiRuns[\"testSnapshotWithMutant\"]:\n",
    "                if Run == \"Red\":\n",
    "                    testSnapshotWithMutant = \"Red\"\n",
    "                    break\n",
    "\n",
    "            mutant_metrics.append([ClientClient, ClientLib, ClientMethodName, testResultWithMutant, testSnapshotWithMutant])\n",
    "\n",
    "            break\n",
    "\n",
    "print(\"Number of common mutants between both client pool and gilesi pool of tests: \" + str(len(mutant_list)))\n",
    "\n",
    "mutant_metrics = pd.DataFrame(mutant_metrics, columns=['client', 'lib', 'methodName', 'testResultWithMutant', 'testSnapshotWithMutant'])\n",
    "\n",
    "print(\"Number of mutants afterwards:\")\n",
    "print(len(mutant_metrics.index))\n",
    "\n",
    "#print(\"Loss reasons:\")\n",
    "#print(\"Lost due to client test being flaky only: \" + str(drop_due_to_flaky_clienttest))\n",
    "#print(\"Lost due to snapshot test being flaky only: \" + str(drop_due_to_flaky_snapshot))\n",
    "#print(\"Lost due to snapshot test being flaky AND client test being flaky: \" + str(drop_due_to_both))"
   ]
  },
  {
   "cell_type": "code",
   "execution_count": null,
   "id": "d51b5c6f",
   "metadata": {},
   "outputs": [],
   "source": [
    "mutant_list"
   ]
  },
  {
   "cell_type": "code",
   "execution_count": null,
   "id": "419b958b",
   "metadata": {},
   "outputs": [],
   "source": [
    "mutant_metrics"
   ]
  },
  {
   "cell_type": "code",
   "execution_count": null,
   "id": "33ae0624",
   "metadata": {},
   "outputs": [],
   "source": [
    "overall_metrics = []\n",
    "\n",
    "for k, el in mutant_metrics.iterrows():\n",
    "    overall_metrics.append([path, el['client'], el['lib'], el['methodName'], el['testResultWithMutant'], el['testSnapshotWithMutant']])\n",
    "\n",
    "overall_metrics = pd.DataFrame(overall_metrics, columns=['path', 'client', 'lib', 'methodName', 'testResultWithMutant', 'testSnapshotWithMutant'])\n",
    "\n",
    "overall_metrics.to_csv('GilesiMutantDetails.csv', mode='a', index=False, header=False)"
   ]
  },
  {
   "cell_type": "markdown",
   "id": "79d184ce",
   "metadata": {},
   "source": [
    "## Bucket results into 4 categories"
   ]
  },
  {
   "cell_type": "code",
   "execution_count": null,
   "id": "2221d76c",
   "metadata": {},
   "outputs": [],
   "source": [
    "## Mutant killed by gilesi and killed by client tests\n",
    "Bucket0 = mutant_metrics.query('testResultWithMutant==\"Red\" & testSnapshotWithMutant==\"Red\"')\n",
    "\n",
    "## Mutant not killed by gilesi and not killed by client tests\n",
    "Bucket1 = mutant_metrics.query('testResultWithMutant==\"Green\" & testSnapshotWithMutant==\"Green\"')\n",
    "\n",
    "## Mutant not killed by gilesi and killed by client tests\n",
    "Bucket2 = mutant_metrics.query('testResultWithMutant==\"Red\" & testSnapshotWithMutant==\"Green\"')\n",
    "\n",
    "## Mutant killed by gilesi and not killed by client tests\n",
    "Bucket3 = mutant_metrics.query('testResultWithMutant==\"Green\" & testSnapshotWithMutant==\"Red\"')"
   ]
  },
  {
   "cell_type": "markdown",
   "id": "e6e517d2",
   "metadata": {},
   "source": [
    "## Mutant killed by gilesi and killed by client tests"
   ]
  },
  {
   "cell_type": "code",
   "execution_count": null,
   "id": "6eb60bb3",
   "metadata": {},
   "outputs": [],
   "source": [
    "Bucket0"
   ]
  },
  {
   "cell_type": "markdown",
   "id": "84b3c08a",
   "metadata": {},
   "source": [
    "## Mutant not killed by gilesi and not killed by client tests"
   ]
  },
  {
   "cell_type": "code",
   "execution_count": null,
   "id": "6a124fa4",
   "metadata": {},
   "outputs": [],
   "source": [
    "Bucket1"
   ]
  },
  {
   "cell_type": "markdown",
   "id": "b6d473d0",
   "metadata": {},
   "source": [
    "## Mutant not killed by gilesi and killed by client tests"
   ]
  },
  {
   "cell_type": "code",
   "execution_count": null,
   "id": "564fabd3",
   "metadata": {},
   "outputs": [],
   "source": [
    "Bucket2"
   ]
  },
  {
   "cell_type": "markdown",
   "id": "4faa67ac",
   "metadata": {},
   "source": [
    "## Mutant killed by gilesi and not killed by client tests"
   ]
  },
  {
   "cell_type": "code",
   "execution_count": null,
   "id": "821bb65e",
   "metadata": {},
   "outputs": [],
   "source": [
    "Bucket3"
   ]
  },
  {
   "cell_type": "code",
   "execution_count": null,
   "id": "b3039ca0",
   "metadata": {},
   "outputs": [],
   "source": [
    "# Rename Green/Red to make better sense on our matrix\n",
    "mutant_metrics['testResultWithMutant'] = mutant_metrics['testResultWithMutant'].str.replace('Green', 'Not Killed', regex=False)\n",
    "mutant_metrics['testResultWithMutant'] = mutant_metrics['testResultWithMutant'].str.replace('Red', 'Killed', regex=False)\n",
    "mutant_metrics['testSnapshotWithMutant'] = mutant_metrics['testSnapshotWithMutant'].str.replace('Green', 'Not Killed', regex=False)\n",
    "mutant_metrics['testSnapshotWithMutant'] = mutant_metrics['testSnapshotWithMutant'].str.replace('Red', 'Killed', regex=False)\n",
    "\n",
    "# Count the occurrences of combinations between \"testResultWithMutant\" and \"testSnapshotWithMutant\"\n",
    "attachment_coverage_count = mutant_metrics.groupby(['testResultWithMutant', 'testSnapshotWithMutant']).size().reset_index(name='pair_count')\n",
    "\n",
    "# Plot the relationship\n",
    "plt.figure(figsize=(8, 5))\n",
    "sns.heatmap(attachment_coverage_count.pivot_table(index='testResultWithMutant', columns='testSnapshotWithMutant', values='pair_count', aggfunc='sum'),\n",
    "            annot=True, fmt=\"f\", cmap=\"Blues\", cbar_kws={'label': 'Number of mutants'})\n",
    "\n",
    "# Customize plot\n",
    "plt.title('Mutation Score relationships')\n",
    "plt.xlabel('Killed by client test')\n",
    "plt.ylabel('Killed by gilesi test')\n",
    "plt.tight_layout()\n",
    "plt.show()"
   ]
  }
 ],
 "metadata": {
  "kernelspec": {
   "display_name": "Python 3",
   "language": "python",
   "name": "python3"
  },
  "language_info": {
   "codemirror_mode": {
    "name": "ipython",
    "version": 3
   },
   "file_extension": ".py",
   "mimetype": "text/x-python",
   "name": "python",
   "nbconvert_exporter": "python",
   "pygments_lexer": "ipython3",
   "version": "3.13.3"
  }
 },
 "nbformat": 4,
 "nbformat_minor": 5
}
